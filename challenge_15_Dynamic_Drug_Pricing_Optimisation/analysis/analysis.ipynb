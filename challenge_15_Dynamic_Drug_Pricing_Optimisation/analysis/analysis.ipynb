{
 "cells": [
  {
   "cell_type": "code",
   "execution_count": 231,
   "id": "92971ac8",
   "metadata": {},
   "outputs": [],
   "source": [
    "import pandas as pd"
   ]
  },
  {
   "cell_type": "code",
   "execution_count": 232,
   "id": "80dd937b",
   "metadata": {},
   "outputs": [],
   "source": [
    "df = pd.read_csv('../data/mock_drug_inventory.csv', index_col=0)"
   ]
  },
  {
   "cell_type": "code",
   "execution_count": null,
   "id": "aae42145",
   "metadata": {},
   "outputs": [],
   "source": [
    "def adjust_prices(df: pd.DataFrame) -> pd.DataFrame:\n",
    "    required = {'base_stock', 'current_stock', 'price'}\n",
    "    missing = required - set(df.columns)\n",
    "    if missing:\n",
    "        raise ValueError(f'Missing required columns: {sorted(missing)}')\n",
    "\n",
    "\n",
    "    df = df.copy()\n",
    "\n",
    "    # Define diff so positive => understock (base > current)\n",
    "    diff = df['base_stock'] - df['current_stock']\n",
    "\n",
    "    mask_under = diff > 0\n",
    "    mask_over  = diff < 0\n",
    "    # equal is implicit\n",
    "\n",
    "    # price sanity\n",
    "    df['price'] = pd.to_numeric(df['price'], errors='coerce')\n",
    "    if df['price'].isna().any():\n",
    "        raise ValueError('Non-numeric prices present.')\n",
    "    if (df['price'] < 0).any():\n",
    "        raise ValueError('Negative prices detected.')\n",
    "\n",
    "\n",
    "    # Rates with caps + no negatives\n",
    "    df['rate_increase'] = (0.02 * diff).clip(lower=0, upper=0.5)\n",
    "    df['rate_decrease'] = (0.015 * (-diff)).clip(lower=0, upper=0.3)\n",
    "\n",
    "    # Start from original price\n",
    "    df['adjusted_price'] = df['price']\n",
    "\n",
    "    # Apply conditionally\n",
    "    df.loc[mask_under, 'adjusted_price'] = (\n",
    "        df.loc[mask_under, 'price'] * (1 + df.loc[mask_under, 'rate_increase'])\n",
    "    )\n",
    "    df.loc[mask_over, 'adjusted_price'] = (\n",
    "        df.loc[mask_over, 'price'] * (1 - df.loc[mask_over, 'rate_decrease'])\n",
    "    )\n",
    "\n",
    "    # Round for currency\n",
    "    df['adjusted_price'] = df['adjusted_price'].round(2)\n",
    "\n",
    "    return df"
   ]
  },
  {
   "cell_type": "code",
   "execution_count": 234,
   "id": "5c82ca26",
   "metadata": {},
   "outputs": [],
   "source": [
    "# equal → no change\n",
    "df_eq = pd.DataFrame({'base_stock':[100], 'current_stock':[100], 'price':[10.0]})\n",
    "assert adjust_prices(df_eq)['adjusted_price'].iloc[0] == 10.00\n",
    "\n",
    "# under → increase, capped at 50%\n",
    "df_under = pd.DataFrame({'base_stock':[200], 'current_stock':[150], 'price':[100.0]})\n",
    "# 50 diff * 0.02 = 1.00 → cap 0.5 → 150.00\n",
    "assert adjust_prices(df_under)['adjusted_price'].iloc[0] == 150.00\n",
    "\n",
    "# over → decrease, capped at 30%\n",
    "df_over = pd.DataFrame({'base_stock':[100], 'current_stock':[130], 'price':[100.0]})\n",
    "# 30 diff * 0.015 = 0.45 → cap 0.3 → 70.00\n",
    "assert adjust_prices(df_over)['adjusted_price'].iloc[0] == 70.00"
   ]
  },
  {
   "cell_type": "code",
   "execution_count": 235,
   "id": "ff57bd79",
   "metadata": {},
   "outputs": [],
   "source": [
    "adjusted = adjust_prices(df)\n",
    "adjusted.to_csv('../data/mock_drug_inventory_adjusted.csv', index=False)"
   ]
  }
 ],
 "metadata": {
  "kernelspec": {
   "display_name": "base",
   "language": "python",
   "name": "python3"
  },
  "language_info": {
   "codemirror_mode": {
    "name": "ipython",
    "version": 3
   },
   "file_extension": ".py",
   "mimetype": "text/x-python",
   "name": "python",
   "nbconvert_exporter": "python",
   "pygments_lexer": "ipython3",
   "version": "3.10.9"
  }
 },
 "nbformat": 4,
 "nbformat_minor": 5
}
