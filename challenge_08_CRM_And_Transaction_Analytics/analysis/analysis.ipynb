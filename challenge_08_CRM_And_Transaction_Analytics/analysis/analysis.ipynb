{
 "cells": [
  {
   "cell_type": "code",
   "execution_count": null,
   "id": "4186ea29",
   "metadata": {},
   "outputs": [],
   "source": [
    "import json\n",
    "import pandas as pd\n",
    "from pandas import json_normalize\n",
    "import re"
   ]
  },
  {
   "cell_type": "code",
   "execution_count": null,
   "id": "8ad13c0f",
   "metadata": {},
   "outputs": [],
   "source": [
    "def load_json_file(filepath: str) -> list[dict] | None:\n",
    "    if not isinstance(filepath, str):\n",
    "        return None\n",
    "    try:\n",
    "        with open(filepath, \"r\") as f:\n",
    "            return json.load(f)\n",
    "    except Exception as e:\n",
    "        print(f\"Error loading JSON: {e}\")\n",
    "        return None\n",
    "\n",
    "def flatten_orders(data: list[dict]) -> pd.DataFrame:\n",
    "    if not data:\n",
    "        return pd.DataFrame()\n",
    "\n",
    "    df = pd.DataFrame(data)  # <- You forgot this line\n",
    "\n",
    "    customer_df = json_normalize(df['customer']).add_prefix('customer_')\n",
    "    product_df = json_normalize(df['product']).add_prefix('product_')\n",
    "    shipping_df = json_normalize(df['shipping']).add_prefix('shipping_')\n",
    "\n",
    "    flat_df = pd.concat([\n",
    "        df.drop(columns=['customer', 'product', 'shipping']),\n",
    "        customer_df,\n",
    "        product_df,\n",
    "        shipping_df\n",
    "    ], axis=1)\n",
    "\n",
    "    return flat_df\n",
    "\n",
    "def clean_order_df(df: pd.DataFrame) -> pd.DataFrame:\n",
    "    pass\n",
    "\n",
    "def enrich_with_history(df: pd.DataFrame, history: pd.DataFrame) -> pd.DataFrame:\n",
    "    pass\n"
   ]
  },
  {
   "cell_type": "code",
   "execution_count": 350,
   "id": "5c1bef70",
   "metadata": {},
   "outputs": [
    {
     "name": "stdout",
     "output_type": "stream",
     "text": [
      "  order_id             timestamp  quantity customer_id customer_name  \\\n",
      "0   ORD001  2025-05-01T10:15:00Z       100     CUST001     Alice Tan   \n",
      "1   ORD002  2025-05-03T14:45:00Z        50     CUST002     Brian Lee   \n",
      "2   ORD003  2025-05-04T09:30:00Z         2     CUST001     Alice Tan   \n",
      "\n",
      "          customer_email product_id       product_name product_category  \\\n",
      "0      alice@example.com   PROD1001      Surgical Mask           Health   \n",
      "1  brian.lee@example.com   PROD2002     Hand Sanitizer           Health   \n",
      "2      alice@example.com   PROD3003  Vitamin C Tablets      Supplements   \n",
      "\n",
      "   product_unit_price shipping_method  shipping_cost  \n",
      "0                 2.5        Standard            5.0  \n",
      "1                 3.0         Express           10.0  \n",
      "2                12.0        Standard            5.0  \n"
     ]
    }
   ],
   "source": [
    "filepath = '../data/orders_nested.json' \n",
    "\n",
    "data = load_json_file(filepath)      # Loads raw list[dict]\n",
    "\n",
    "if data is not None:\n",
    "    df = flatten_orders(data)        # Flattens the nested JSON\n",
    "    print(df.head())                 # Inspect output\n",
    "else:\n",
    "    print(\"Data failed to load.\")"
   ]
  }
 ],
 "metadata": {
  "kernelspec": {
   "display_name": "base",
   "language": "python",
   "name": "python3"
  },
  "language_info": {
   "codemirror_mode": {
    "name": "ipython",
    "version": 3
   },
   "file_extension": ".py",
   "mimetype": "text/x-python",
   "name": "python",
   "nbconvert_exporter": "python",
   "pygments_lexer": "ipython3",
   "version": "3.10.9"
  }
 },
 "nbformat": 4,
 "nbformat_minor": 5
}
