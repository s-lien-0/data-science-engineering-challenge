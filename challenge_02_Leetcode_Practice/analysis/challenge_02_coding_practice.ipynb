{
 "cells": [
  {
   "cell_type": "markdown",
   "id": "cf534c91",
   "metadata": {},
   "source": [
    "## Challenge 2: Python Coding Practice\n",
    "#### Difficulty: Easy to Intermediate\n"
   ]
  },
  {
   "cell_type": "code",
   "execution_count": 12,
   "id": "4e8b755f",
   "metadata": {},
   "outputs": [
    {
     "name": "stdout",
     "output_type": "stream",
     "text": [
      "olleh\n",
      "racecar\n",
      "!nohtyP\n"
     ]
    }
   ],
   "source": [
    "# -----------------------------------------------------\n",
    "# 🧩 Problem 1: Reverse a String\n",
    "# -----------------------------------------------------\n",
    "def reverse_string(s: str) -> str:\n",
    "    '''\n",
    "    Reverses a given string\n",
    "    '''\n",
    "    return s[::-1]\n",
    "\n",
    "# ✅ Test Cases\n",
    "print(reverse_string(\"hello\"))       # Expected: \"olleh\"\n",
    "print(reverse_string(\"racecar\"))     # Expected: \"racecar\"\n",
    "print(reverse_string(\"Python!\"))     # Expected: \"!nohtyP\""
   ]
  },
  {
   "cell_type": "code",
   "execution_count": 17,
   "id": "757b6442",
   "metadata": {},
   "outputs": [
    {
     "name": "stdout",
     "output_type": "stream",
     "text": [
      "True\n",
      "False\n",
      "True\n"
     ]
    }
   ],
   "source": [
    "# -----------------------------------------------------\n",
    "# 🧩 Problem 2: Palindrome Check\n",
    "# -----------------------------------------------------\n",
    "def is_palindrome(s: str) -> bool:\n",
    "    cleaned_s = s.replace(' ', '').lower()\n",
    "    if cleaned_s[::-1] == cleaned_s:\n",
    "        return True \n",
    "    return False\n",
    "\n",
    "# ✅ Test Cases\n",
    "print(is_palindrome(\"Racecar\"))      # Expected: True\n",
    "print(is_palindrome(\"hello\"))        # Expected: False\n",
    "print(is_palindrome(\"A man a plan a canal Panama\"))  # Expected: True (if spaces and casing handled)\n",
    "\n"
   ]
  },
  {
   "cell_type": "code",
   "execution_count": 35,
   "id": "44cfeb59",
   "metadata": {},
   "outputs": [
    {
     "name": "stdout",
     "output_type": "stream",
     "text": [
      "9\n",
      "-3\n",
      "100\n"
     ]
    }
   ],
   "source": [
    "# -----------------------------------------------------\n",
    "# 🧩 Problem 3: Find Maximum in List\n",
    "# -----------------------------------------------------\n",
    "def find_max(nums: list[int]) -> int:\n",
    "    return max(nums)\n",
    "\n",
    "# ✅ Test Cases\n",
    "print(find_max([3, 5, 1, 9]))         # Expected: 9\n",
    "print(find_max([-5, -3, -9]))         # Expected: -3\n",
    "print(find_max([100]))               # Expected: 100"
   ]
  },
  {
   "cell_type": "code",
   "execution_count": 38,
   "id": "45ee645c",
   "metadata": {},
   "outputs": [
    {
     "name": "stdout",
     "output_type": "stream",
     "text": [
      "[1, 2, 3]\n",
      "[]\n",
      "[5]\n"
     ]
    }
   ],
   "source": [
    "# -----------------------------------------------------\n",
    "# 🧩 Problem 4: Remove Duplicates from List\n",
    "# -----------------------------------------------------\n",
    "def remove_duplicates(nums: list[int]) -> list[int]:\n",
    "    return list(set(nums))\n",
    "    \n",
    "# ✅ Test Cases\n",
    "print(remove_duplicates([1, 2, 2, 3, 1]))     # Expected: [1, 2, 3]\n",
    "print(remove_duplicates([]))                 # Expected: []\n",
    "print(remove_duplicates([5, 5, 5, 5]))        # Expected: [5]"
   ]
  },
  {
   "cell_type": "code",
   "execution_count": null,
   "id": "76fa96e1",
   "metadata": {},
   "outputs": [
    {
     "name": "stdout",
     "output_type": "stream",
     "text": [
      "[1, 2, 3, 4, 5, 6]\n",
      "[1, 2]\n",
      "[1, 2]\n"
     ]
    }
   ],
   "source": [
    "# -----------------------------------------------------\n",
    "# 🧩 Problem 5: Merge Two Sorted Lists\n",
    "# -----------------------------------------------------\n",
    "def merge_sorted_lists(a: list[int], b: list[int]) -> list[int]:\n",
    "    return sorted(a + b)\n",
    "\n",
    "\n",
    "# ✅ Test Cases\n",
    "print(merge_sorted_lists([1, 3, 5], [2, 4, 6]))     # Expected: [1, 2, 3, 4, 5, 6]\n",
    "print(merge_sorted_lists([], [1, 2]))              # Expected: [1, 2]\n",
    "print(merge_sorted_lists([1, 2], []))              # Expected: [1, 2]"
   ]
  }
 ],
 "metadata": {
  "kernelspec": {
   "display_name": "base",
   "language": "python",
   "name": "python3"
  },
  "language_info": {
   "codemirror_mode": {
    "name": "ipython",
    "version": 3
   },
   "file_extension": ".py",
   "mimetype": "text/x-python",
   "name": "python",
   "nbconvert_exporter": "python",
   "pygments_lexer": "ipython3",
   "version": "3.10.9"
  }
 },
 "nbformat": 4,
 "nbformat_minor": 5
}
