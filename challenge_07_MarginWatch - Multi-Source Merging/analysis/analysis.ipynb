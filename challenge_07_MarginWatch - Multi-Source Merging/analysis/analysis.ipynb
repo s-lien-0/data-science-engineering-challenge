{
 "cells": [
  {
   "cell_type": "markdown",
   "id": "f73d4cf7",
   "metadata": {},
   "source": [
    "# Challenge 07 - Margin Leakage in Clinical Supplies - Multi-Source Merging\n",
    "\n",
    "Our finance team suspects that several high-usage medical products are driving volume but delivering little to no profit margin — or even losses. We’ve observed inconsistencies between usage patterns and expected cost efficiency across several EU countries.\n",
    "\n",
    "You’ve been given two datasets:\n",
    "\n",
    "retail_clinical.csv: A transaction-level export of medical product usage (e.g. units billed during clinical operations across 5 countries)\n",
    "products_clinical.csv: A reference product file that includes product category and base cost per unit"
   ]
  },
  {
   "cell_type": "code",
   "execution_count": 157,
   "id": "59988fc2",
   "metadata": {},
   "outputs": [],
   "source": [
    "import pandas as pd\n",
    "import matplotlib.pyplot as plt"
   ]
  },
  {
   "cell_type": "markdown",
   "id": "fd04eea6",
   "metadata": {},
   "source": [
    "## Data loading"
   ]
  },
  {
   "cell_type": "code",
   "execution_count": 158,
   "id": "e7878ad1",
   "metadata": {},
   "outputs": [],
   "source": [
    "products_df = pd.read_csv('../data/products_clinical.csv')\n",
    "retail_df = pd.read_csv('../data/retail_clinical.csv')"
   ]
  },
  {
   "cell_type": "code",
   "execution_count": 159,
   "id": "a52fab11",
   "metadata": {},
   "outputs": [
    {
     "name": "stdout",
     "output_type": "stream",
     "text": [
      "Null values in key columns after merge:\n",
      "ProductID      0\n",
      "ProductName    0\n",
      "BaseCost       0\n",
      "Category       0\n",
      "dtype: int64\n",
      "\n",
      "DataFrame structure overview:\n",
      "<class 'pandas.core.frame.DataFrame'>\n",
      "Int64Index: 200 entries, 0 to 199\n",
      "Data columns (total 9 columns):\n",
      " #   Column       Non-Null Count  Dtype  \n",
      "---  ------       --------------  -----  \n",
      " 0   InvoiceNo    200 non-null    int64  \n",
      " 1   ProductID    200 non-null    object \n",
      " 2   Quantity     200 non-null    int64  \n",
      " 3   UnitPrice    200 non-null    float64\n",
      " 4   InvoiceDate  200 non-null    object \n",
      " 5   Country      200 non-null    object \n",
      " 6   ProductName  200 non-null    object \n",
      " 7   Category     200 non-null    object \n",
      " 8   BaseCost     200 non-null    float64\n",
      "dtypes: float64(2), int64(2), object(5)\n",
      "memory usage: 15.6+ KB\n"
     ]
    }
   ],
   "source": [
    "# Merge product info into retail data\n",
    "products_retail_df = retail_df.merge(products_df, on='ProductID', how='left')\n",
    "\n",
    "# Check for structural or data integrity issues\n",
    "print('Null values in key columns after merge:')\n",
    "print(products_retail_df[['ProductID', 'ProductName', 'BaseCost', 'Category']].isnull().sum())\n",
    "\n",
    "print('\\nDataFrame structure overview:')\n",
    "products_retail_df.info()\n",
    "\n",
    "assert products_retail_df['BaseCost'].notna().all(), ' BaseCost has missing values after merge'\n",
    "assert products_retail_df['Category'].notna().all(), ' Category is missing for some products'\n",
    "assert products_retail_df['ProductName'].notna().all(), ' ProductName is missing'\n",
    "assert (len(products_retail_df)) == (len(retail_df)), 'Row count mismatch — merge dropped or duplicated rows'"
   ]
  },
  {
   "cell_type": "markdown",
   "id": "433cc1bf",
   "metadata": {},
   "source": [
    "## Metric engineering"
   ]
  },
  {
   "cell_type": "code",
   "execution_count": 160,
   "id": "9ef25543",
   "metadata": {},
   "outputs": [],
   "source": [
    "# Revenue, Cost, and Margin calculation\n",
    "products_retail_df['Revenue'] = products_retail_df['Quantity'] * products_retail_df['UnitPrice']\n",
    "products_retail_df['Cost'] = products_retail_df['Quantity'] * products_retail_df['BaseCost']\n",
    "products_retail_df['Margin'] = products_retail_df['Revenue'] - products_retail_df['Cost']"
   ]
  },
  {
   "cell_type": "code",
   "execution_count": 161,
   "id": "62bdff79",
   "metadata": {},
   "outputs": [
    {
     "data": {
      "text/html": [
       "<div>\n",
       "<style scoped>\n",
       "    .dataframe tbody tr th:only-of-type {\n",
       "        vertical-align: middle;\n",
       "    }\n",
       "\n",
       "    .dataframe tbody tr th {\n",
       "        vertical-align: top;\n",
       "    }\n",
       "\n",
       "    .dataframe thead th {\n",
       "        text-align: right;\n",
       "    }\n",
       "</style>\n",
       "<table border=\"1\" class=\"dataframe\">\n",
       "  <thead>\n",
       "    <tr style=\"text-align: right;\">\n",
       "      <th></th>\n",
       "      <th>Revenue</th>\n",
       "      <th>Cost</th>\n",
       "      <th>Margin</th>\n",
       "    </tr>\n",
       "  </thead>\n",
       "  <tbody>\n",
       "    <tr>\n",
       "      <th>count</th>\n",
       "      <td>200.00000</td>\n",
       "      <td>200.000000</td>\n",
       "      <td>200.000000</td>\n",
       "    </tr>\n",
       "    <tr>\n",
       "      <th>mean</th>\n",
       "      <td>520.44585</td>\n",
       "      <td>180.055000</td>\n",
       "      <td>340.390850</td>\n",
       "    </tr>\n",
       "    <tr>\n",
       "      <th>std</th>\n",
       "      <td>456.03692</td>\n",
       "      <td>217.477434</td>\n",
       "      <td>412.056409</td>\n",
       "    </tr>\n",
       "    <tr>\n",
       "      <th>min</th>\n",
       "      <td>3.61000</td>\n",
       "      <td>1.000000</td>\n",
       "      <td>-525.920000</td>\n",
       "    </tr>\n",
       "    <tr>\n",
       "      <th>25%</th>\n",
       "      <td>125.82750</td>\n",
       "      <td>25.000000</td>\n",
       "      <td>30.362500</td>\n",
       "    </tr>\n",
       "    <tr>\n",
       "      <th>50%</th>\n",
       "      <td>382.69000</td>\n",
       "      <td>100.000000</td>\n",
       "      <td>197.880000</td>\n",
       "    </tr>\n",
       "    <tr>\n",
       "      <th>75%</th>\n",
       "      <td>838.88250</td>\n",
       "      <td>250.000000</td>\n",
       "      <td>599.832500</td>\n",
       "    </tr>\n",
       "    <tr>\n",
       "      <th>max</th>\n",
       "      <td>1746.36000</td>\n",
       "      <td>950.000000</td>\n",
       "      <td>1626.590000</td>\n",
       "    </tr>\n",
       "  </tbody>\n",
       "</table>\n",
       "</div>"
      ],
      "text/plain": [
       "          Revenue        Cost       Margin\n",
       "count   200.00000  200.000000   200.000000\n",
       "mean    520.44585  180.055000   340.390850\n",
       "std     456.03692  217.477434   412.056409\n",
       "min       3.61000    1.000000  -525.920000\n",
       "25%     125.82750   25.000000    30.362500\n",
       "50%     382.69000  100.000000   197.880000\n",
       "75%     838.88250  250.000000   599.832500\n",
       "max    1746.36000  950.000000  1626.590000"
      ]
     },
     "execution_count": 161,
     "metadata": {},
     "output_type": "execute_result"
    }
   ],
   "source": [
    "products_retail_df[['Revenue', 'Cost', 'Margin']].describe()"
   ]
  },
  {
   "cell_type": "code",
   "execution_count": 162,
   "id": "0ac642ba",
   "metadata": {},
   "outputs": [],
   "source": [
    "assert 'Margin' in products_retail_df.columns\n",
    "assert products_retail_df['Margin'].notna().all()"
   ]
  },
  {
   "cell_type": "markdown",
   "id": "d8b7c26a",
   "metadata": {},
   "source": [
    "### Grouping and summarising"
   ]
  },
  {
   "cell_type": "code",
   "execution_count": 163,
   "id": "d49b3936",
   "metadata": {},
   "outputs": [
    {
     "data": {
      "text/html": [
       "<div>\n",
       "<style scoped>\n",
       "    .dataframe tbody tr th:only-of-type {\n",
       "        vertical-align: middle;\n",
       "    }\n",
       "\n",
       "    .dataframe tbody tr th {\n",
       "        vertical-align: top;\n",
       "    }\n",
       "\n",
       "    .dataframe thead th {\n",
       "        text-align: right;\n",
       "    }\n",
       "</style>\n",
       "<table border=\"1\" class=\"dataframe\">\n",
       "  <thead>\n",
       "    <tr style=\"text-align: right;\">\n",
       "      <th></th>\n",
       "      <th>ProductName</th>\n",
       "      <th>Quantity</th>\n",
       "      <th>Revenue</th>\n",
       "      <th>Cost</th>\n",
       "      <th>Margin</th>\n",
       "    </tr>\n",
       "  </thead>\n",
       "  <tbody>\n",
       "    <tr>\n",
       "      <th>0</th>\n",
       "      <td>Antiviral Medication</td>\n",
       "      <td>342</td>\n",
       "      <td>22754.49</td>\n",
       "      <td>17100.0</td>\n",
       "      <td>5654.49</td>\n",
       "    </tr>\n",
       "    <tr>\n",
       "      <th>1</th>\n",
       "      <td>COVID Vaccine Dose</td>\n",
       "      <td>384</td>\n",
       "      <td>20906.63</td>\n",
       "      <td>5760.0</td>\n",
       "      <td>15146.63</td>\n",
       "    </tr>\n",
       "    <tr>\n",
       "      <th>2</th>\n",
       "      <td>Insulin Pen</td>\n",
       "      <td>396</td>\n",
       "      <td>19898.49</td>\n",
       "      <td>9900.0</td>\n",
       "      <td>9998.49</td>\n",
       "    </tr>\n",
       "    <tr>\n",
       "      <th>3</th>\n",
       "      <td>Rapid Test Kit</td>\n",
       "      <td>354</td>\n",
       "      <td>17522.12</td>\n",
       "      <td>2832.0</td>\n",
       "      <td>14690.12</td>\n",
       "    </tr>\n",
       "    <tr>\n",
       "      <th>4</th>\n",
       "      <td>Surgical Mask</td>\n",
       "      <td>419</td>\n",
       "      <td>23007.44</td>\n",
       "      <td>419.0</td>\n",
       "      <td>22588.44</td>\n",
       "    </tr>\n",
       "  </tbody>\n",
       "</table>\n",
       "</div>"
      ],
      "text/plain": [
       "            ProductName  Quantity   Revenue     Cost    Margin\n",
       "0  Antiviral Medication       342  22754.49  17100.0   5654.49\n",
       "1    COVID Vaccine Dose       384  20906.63   5760.0  15146.63\n",
       "2           Insulin Pen       396  19898.49   9900.0   9998.49\n",
       "3        Rapid Test Kit       354  17522.12   2832.0  14690.12\n",
       "4         Surgical Mask       419  23007.44    419.0  22588.44"
      ]
     },
     "execution_count": 163,
     "metadata": {},
     "output_type": "execute_result"
    }
   ],
   "source": [
    "# Product summary\n",
    "product_summary = (\n",
    "    products_retail_df\n",
    "    .groupby(\"ProductName\")[[\"Quantity\", \"Revenue\", \"Cost\", \"Margin\"]]\n",
    "    .sum()\n",
    "    .reset_index()\n",
    ")\n",
    "product_summary"
   ]
  },
  {
   "cell_type": "code",
   "execution_count": 164,
   "id": "cd251b1c",
   "metadata": {},
   "outputs": [],
   "source": [
    "product_summary[\"MarginPerUnit\"] = product_summary[\"Margin\"] / product_summary[\"Quantity\"]"
   ]
  },
  {
   "cell_type": "markdown",
   "id": "cac0cc5f",
   "metadata": {},
   "source": [
    "### Flag Margin Leakage"
   ]
  },
  {
   "cell_type": "code",
   "execution_count": 165,
   "id": "0215f6ff",
   "metadata": {},
   "outputs": [
    {
     "data": {
      "text/html": [
       "<div>\n",
       "<style scoped>\n",
       "    .dataframe tbody tr th:only-of-type {\n",
       "        vertical-align: middle;\n",
       "    }\n",
       "\n",
       "    .dataframe tbody tr th {\n",
       "        vertical-align: top;\n",
       "    }\n",
       "\n",
       "    .dataframe thead th {\n",
       "        text-align: right;\n",
       "    }\n",
       "</style>\n",
       "<table border=\"1\" class=\"dataframe\">\n",
       "  <thead>\n",
       "    <tr style=\"text-align: right;\">\n",
       "      <th></th>\n",
       "      <th>ProductName</th>\n",
       "      <th>Quantity</th>\n",
       "      <th>Revenue</th>\n",
       "      <th>Cost</th>\n",
       "      <th>Margin</th>\n",
       "      <th>MarginPerUnit</th>\n",
       "    </tr>\n",
       "  </thead>\n",
       "  <tbody>\n",
       "    <tr>\n",
       "      <th>4</th>\n",
       "      <td>Surgical Mask</td>\n",
       "      <td>419</td>\n",
       "      <td>23007.44</td>\n",
       "      <td>419.0</td>\n",
       "      <td>22588.44</td>\n",
       "      <td>53.910358</td>\n",
       "    </tr>\n",
       "    <tr>\n",
       "      <th>2</th>\n",
       "      <td>Insulin Pen</td>\n",
       "      <td>396</td>\n",
       "      <td>19898.49</td>\n",
       "      <td>9900.0</td>\n",
       "      <td>9998.49</td>\n",
       "      <td>25.248712</td>\n",
       "    </tr>\n",
       "    <tr>\n",
       "      <th>1</th>\n",
       "      <td>COVID Vaccine Dose</td>\n",
       "      <td>384</td>\n",
       "      <td>20906.63</td>\n",
       "      <td>5760.0</td>\n",
       "      <td>15146.63</td>\n",
       "      <td>39.444349</td>\n",
       "    </tr>\n",
       "    <tr>\n",
       "      <th>3</th>\n",
       "      <td>Rapid Test Kit</td>\n",
       "      <td>354</td>\n",
       "      <td>17522.12</td>\n",
       "      <td>2832.0</td>\n",
       "      <td>14690.12</td>\n",
       "      <td>41.497514</td>\n",
       "    </tr>\n",
       "    <tr>\n",
       "      <th>0</th>\n",
       "      <td>Antiviral Medication</td>\n",
       "      <td>342</td>\n",
       "      <td>22754.49</td>\n",
       "      <td>17100.0</td>\n",
       "      <td>5654.49</td>\n",
       "      <td>16.533596</td>\n",
       "    </tr>\n",
       "  </tbody>\n",
       "</table>\n",
       "</div>"
      ],
      "text/plain": [
       "            ProductName  Quantity   Revenue     Cost    Margin  MarginPerUnit\n",
       "4         Surgical Mask       419  23007.44    419.0  22588.44      53.910358\n",
       "2           Insulin Pen       396  19898.49   9900.0   9998.49      25.248712\n",
       "1    COVID Vaccine Dose       384  20906.63   5760.0  15146.63      39.444349\n",
       "3        Rapid Test Kit       354  17522.12   2832.0  14690.12      41.497514\n",
       "0  Antiviral Medication       342  22754.49  17100.0   5654.49      16.533596"
      ]
     },
     "execution_count": 165,
     "metadata": {},
     "output_type": "execute_result"
    }
   ],
   "source": [
    "top_10_products = product_summary.sort_values(by=\"Quantity\", ascending=False).head(10)\n",
    "top_10_products"
   ]
  },
  {
   "cell_type": "code",
   "execution_count": 166,
   "id": "a55c83be",
   "metadata": {},
   "outputs": [
    {
     "data": {
      "text/html": [
       "<div>\n",
       "<style scoped>\n",
       "    .dataframe tbody tr th:only-of-type {\n",
       "        vertical-align: middle;\n",
       "    }\n",
       "\n",
       "    .dataframe tbody tr th {\n",
       "        vertical-align: top;\n",
       "    }\n",
       "\n",
       "    .dataframe thead th {\n",
       "        text-align: right;\n",
       "    }\n",
       "</style>\n",
       "<table border=\"1\" class=\"dataframe\">\n",
       "  <thead>\n",
       "    <tr style=\"text-align: right;\">\n",
       "      <th></th>\n",
       "      <th>ProductName</th>\n",
       "      <th>Quantity</th>\n",
       "      <th>Revenue</th>\n",
       "      <th>Cost</th>\n",
       "      <th>Margin</th>\n",
       "      <th>MarginPerUnit</th>\n",
       "    </tr>\n",
       "  </thead>\n",
       "  <tbody>\n",
       "  </tbody>\n",
       "</table>\n",
       "</div>"
      ],
      "text/plain": [
       "Empty DataFrame\n",
       "Columns: [ProductName, Quantity, Revenue, Cost, Margin, MarginPerUnit]\n",
       "Index: []"
      ]
     },
     "execution_count": 166,
     "metadata": {},
     "output_type": "execute_result"
    }
   ],
   "source": [
    "# Margin Leakage\n",
    "margin_leakage = top_10_products[top_10_products[\"MarginPerUnit\"] <= 0]\n",
    "margin_leakage"
   ]
  },
  {
   "cell_type": "code",
   "execution_count": 167,
   "id": "7b2c5456",
   "metadata": {},
   "outputs": [
    {
     "data": {
      "text/html": [
       "<div>\n",
       "<style scoped>\n",
       "    .dataframe tbody tr th:only-of-type {\n",
       "        vertical-align: middle;\n",
       "    }\n",
       "\n",
       "    .dataframe tbody tr th {\n",
       "        vertical-align: top;\n",
       "    }\n",
       "\n",
       "    .dataframe thead th {\n",
       "        text-align: right;\n",
       "    }\n",
       "</style>\n",
       "<table border=\"1\" class=\"dataframe\">\n",
       "  <thead>\n",
       "    <tr style=\"text-align: right;\">\n",
       "      <th></th>\n",
       "      <th>ProductName</th>\n",
       "      <th>Quantity</th>\n",
       "      <th>Revenue</th>\n",
       "      <th>Cost</th>\n",
       "      <th>Margin</th>\n",
       "      <th>MarginPerUnit</th>\n",
       "    </tr>\n",
       "  </thead>\n",
       "  <tbody>\n",
       "  </tbody>\n",
       "</table>\n",
       "</div>"
      ],
      "text/plain": [
       "Empty DataFrame\n",
       "Columns: [ProductName, Quantity, Revenue, Cost, Margin, MarginPerUnit]\n",
       "Index: []"
      ]
     },
     "execution_count": 167,
     "metadata": {},
     "output_type": "execute_result"
    }
   ],
   "source": [
    "# Low margin leakage\n",
    "low_margin_risk = top_10_products[top_10_products[\"MarginPerUnit\"] < 0.5]\n",
    "low_margin_risk"
   ]
  },
  {
   "cell_type": "code",
   "execution_count": 168,
   "id": "a3ee0681",
   "metadata": {},
   "outputs": [
    {
     "data": {
      "text/html": [
       "<div>\n",
       "<style scoped>\n",
       "    .dataframe tbody tr th:only-of-type {\n",
       "        vertical-align: middle;\n",
       "    }\n",
       "\n",
       "    .dataframe tbody tr th {\n",
       "        vertical-align: top;\n",
       "    }\n",
       "\n",
       "    .dataframe thead th {\n",
       "        text-align: right;\n",
       "    }\n",
       "</style>\n",
       "<table border=\"1\" class=\"dataframe\">\n",
       "  <thead>\n",
       "    <tr style=\"text-align: right;\">\n",
       "      <th></th>\n",
       "      <th>ProductName</th>\n",
       "      <th>Quantity</th>\n",
       "      <th>Revenue</th>\n",
       "      <th>Cost</th>\n",
       "      <th>Margin</th>\n",
       "      <th>MarginPerUnit</th>\n",
       "    </tr>\n",
       "  </thead>\n",
       "  <tbody>\n",
       "  </tbody>\n",
       "</table>\n",
       "</div>"
      ],
      "text/plain": [
       "Empty DataFrame\n",
       "Columns: [ProductName, Quantity, Revenue, Cost, Margin, MarginPerUnit]\n",
       "Index: []"
      ]
     },
     "execution_count": 168,
     "metadata": {},
     "output_type": "execute_result"
    }
   ],
   "source": [
    "leakage_candidates = product_summary[\n",
    "    (product_summary[\"Quantity\"] > 20) &\n",
    "    (product_summary[\"MarginPerUnit\"] <= 0)\n",
    "]\n",
    "leakage_candidates"
   ]
  },
  {
   "cell_type": "markdown",
   "id": "de6da5a1",
   "metadata": {},
   "source": [
    "### Margin Analysis Summary\n",
    "- Among the top 10 most-used products, all had positive margin per unit.\n",
    "- No immediate margin leakage risk was detected.\n",
    "- We recommend monitoring low-margin products like [X] or [Y] if costs increase."
   ]
  },
  {
   "cell_type": "markdown",
   "id": "1cb5d5c7",
   "metadata": {},
   "source": [
    "## Visualisation"
   ]
  },
  {
   "cell_type": "code",
   "execution_count": 169,
   "id": "01694327",
   "metadata": {},
   "outputs": [
    {
     "data": {
      "image/png": "[encoded data removed]",
      "text/plain": [
       "<Figure size 640x480 with 1 Axes>"
      ]
     },
     "metadata": {},
     "output_type": "display_data"
    }
   ],
   "source": [
    "top_10_products.sort_values(by=\"Quantity\", ascending=True).plot(\n",
    "    kind=\"barh\", x=\"ProductName\", y=\"Quantity\", legend=False,\n",
    "    title=\"Top 10 Products by Quantity Sold\"\n",
    ")\n",
    "plt.xlabel(\"Total Units Sold\")\n",
    "plt.tight_layout()\n",
    "plt.show()"
   ]
  },
  {
   "cell_type": "code",
   "execution_count": 170,
   "id": "153102b1",
   "metadata": {},
   "outputs": [
    {
     "data": {
      "image/png": "[encoded data removed]",
      "text/plain": [
       "<Figure size 640x480 with 1 Axes>"
      ]
     },
     "metadata": {},
     "output_type": "display_data"
    }
   ],
   "source": [
    "top_10_products.sort_values(by=\"Margin\", ascending=True).plot(\n",
    "    kind=\"barh\", x=\"ProductName\", y=\"Margin\", legend=False,\n",
    "    title=\"Top 10 Products by Total Margin\"\n",
    ")\n",
    "plt.xlabel(\"Total Margin (€)\")\n",
    "plt.tight_layout()\n",
    "plt.show()"
   ]
  },
  {
   "cell_type": "code",
   "execution_count": 171,
   "id": "e478c9b8",
   "metadata": {},
   "outputs": [
    {
     "data": {
      "image/png": "[encoded data removed]",
      "text/plain": [
       "<Figure size 640x480 with 1 Axes>"
      ]
     },
     "metadata": {},
     "output_type": "display_data"
    }
   ],
   "source": [
    "top_10_products.sort_values(by=\"MarginPerUnit\", ascending=True).plot(\n",
    "    kind=\"barh\", x=\"ProductName\", y=\"MarginPerUnit\", legend=False,\n",
    "    title=\"Top 10 Products by Margin Per Unit\"\n",
    ")\n",
    "plt.xlabel(\"Margin per Unit (€)\")\n",
    "plt.tight_layout()\n",
    "plt.show()"
   ]
  },
  {
   "cell_type": "markdown",
   "id": "dbf7f283",
   "metadata": {},
   "source": [
    "### Executive Summary – Margin Analysis\n",
    "\n",
    "- **Surgical Masks** dominate across all three metrics:\n",
    "  - Highest total quantity sold\n",
    "  - Highest total margin\n",
    "  - Highest margin per unit\n",
    "- No margin leakage was detected among top-selling products.\n",
    "- All high-usage items are currently profitable, with no product showing negative per-unit margins.\n",
    "\n",
    "### Recommendations\n",
    "\n",
    "- Continue strategy for Surgical Masks — current pricing is both competitive and profitable.\n",
    "- Monitor lower-margin products such as Antiviral Medication for changes in cost or reimbursement rate.\n",
    "- Expand margin analysis to long-tail products beyond top 10 to check for low-volume leakage."
   ]
  },
  {
   "cell_type": "code",
   "execution_count": null,
   "id": "3a7274cd",
   "metadata": {},
   "outputs": [],
   "source": [
    "# function definition (practice)\n",
    "def summarize_product_margins(retail_df, products_df, top_n=10):\n",
    "    merged = retail_df.merge(products_df, on=\"ProductID\", how=\"left\")\n",
    "    \n",
    "    # Assertions\n",
    "    assert len(merged) == len(retail_df), \"Row count mismatch after merge\"\n",
    "    assert merged[\"BaseCost\"].notna().all(), \"Missing BaseCost values\"\n",
    "    \n",
    "    # Metric engineering\n",
    "    merged[\"Revenue\"] = merged[\"Quantity\"] * merged[\"UnitPrice\"]\n",
    "    merged[\"Cost\"] = merged[\"Quantity\"] * merged[\"BaseCost\"]\n",
    "    merged[\"Margin\"] = merged[\"Revenue\"] - merged[\"Cost\"]\n",
    "    merged[\"MarginPerUnit\"] = merged[\"Margin\"] / merged[\"Quantity\"]\n",
    "    \n",
    "    # Grouped summary\n",
    "    grouped = (\n",
    "        merged.groupby(\"ProductName\")[[\"Quantity\", \"Revenue\", \"Cost\", \"Margin\"]]\n",
    "        .sum()\n",
    "        .reset_index()\n",
    "    )\n",
    "    grouped[\"MarginPerUnit\"] = grouped[\"Margin\"] / grouped[\"Quantity\"]\n",
    "    top_products = grouped.sort_values(by=\"Quantity\", ascending=False).head(top_n)\n",
    "    \n",
    "    return top_products\n",
    "\n",
    "top_10_products = summarize_product_margins(retail_df, products_df)"
   ]
  }
 ],
 "metadata": {
  "kernelspec": {
   "display_name": "base",
   "language": "python",
   "name": "python3"
  },
  "language_info": {
   "codemirror_mode": {
    "name": "ipython",
    "version": 3
   },
   "file_extension": ".py",
   "mimetype": "text/x-python",
   "name": "python",
   "nbconvert_exporter": "python",
   "pygments_lexer": "ipython3",
   "version": "3.10.9"
  }
 },
 "nbformat": 4,
 "nbformat_minor": 5
}
