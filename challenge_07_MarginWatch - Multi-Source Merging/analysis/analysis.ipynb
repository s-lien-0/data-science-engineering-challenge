{
 "cells": [
  {
   "cell_type": "markdown",
   "id": "f73d4cf7",
   "metadata": {},
   "source": [
    "### Challenge 07 - Margin Leakage in Clinical Supplies - Multi-Source Merging\n",
    "\n",
    "Our finance team suspects that several high-usage medical products are driving volume but delivering little to no profit margin — or even losses. We’ve observed inconsistencies between usage patterns and expected cost efficiency across several EU countries.\n",
    "\n",
    "You’ve been given two datasets:\n",
    "\n",
    "retail_clinical.csv: A transaction-level export of medical product usage (e.g. units billed during clinical operations across 5 countries)\n",
    "products_clinical.csv: A reference product file that includes product category and base cost per unit"
   ]
  },
  {
   "cell_type": "code",
   "execution_count": 111,
   "id": "59988fc2",
   "metadata": {},
   "outputs": [],
   "source": [
    "import pandas as pd"
   ]
  },
  {
   "cell_type": "markdown",
   "id": "fd04eea6",
   "metadata": {},
   "source": [
    "### Data loading"
   ]
  },
  {
   "cell_type": "code",
   "execution_count": 112,
   "id": "e7878ad1",
   "metadata": {},
   "outputs": [],
   "source": [
    "products_df = pd.read_csv('../data/products_clinical.csv')\n",
    "retail_df = pd.read_csv('../data/retail_clinical.csv')"
   ]
  },
  {
   "cell_type": "markdown",
   "id": "28cbb9e4",
   "metadata": {},
   "source": [
    "### Data Merging"
   ]
  },
  {
   "cell_type": "code",
   "execution_count": 113,
   "id": "8595c311",
   "metadata": {},
   "outputs": [
    {
     "name": "stdout",
     "output_type": "stream",
     "text": [
      "ProductID      0\n",
      "ProductName    0\n",
      "Category       0\n",
      "BaseCost       0\n",
      "dtype: int64\n",
      "InvoiceNo      0\n",
      "ProductID      0\n",
      "Quantity       0\n",
      "UnitPrice      0\n",
      "InvoiceDate    0\n",
      "Country        0\n",
      "dtype: int64\n"
     ]
    }
   ],
   "source": [
    "# Check if dataframes are empty\n",
    "print(products_df.isnull().sum())\n",
    "print(retail_df.isnull().sum())"
   ]
  },
  {
   "cell_type": "code",
   "execution_count": 114,
   "id": "a52fab11",
   "metadata": {},
   "outputs": [
    {
     "name": "stdout",
     "output_type": "stream",
     "text": [
      "<class 'pandas.core.frame.DataFrame'>\n",
      "RangeIndex: 5 entries, 0 to 4\n",
      "Data columns (total 4 columns):\n",
      " #   Column       Non-Null Count  Dtype  \n",
      "---  ------       --------------  -----  \n",
      " 0   ProductID    5 non-null      object \n",
      " 1   ProductName  5 non-null      object \n",
      " 2   Category     5 non-null      object \n",
      " 3   BaseCost     5 non-null      float64\n",
      "dtypes: float64(1), object(3)\n",
      "memory usage: 288.0+ bytes\n",
      "None\n",
      "<class 'pandas.core.frame.DataFrame'>\n",
      "RangeIndex: 200 entries, 0 to 199\n",
      "Data columns (total 6 columns):\n",
      " #   Column       Non-Null Count  Dtype  \n",
      "---  ------       --------------  -----  \n",
      " 0   InvoiceNo    200 non-null    int64  \n",
      " 1   ProductID    200 non-null    object \n",
      " 2   Quantity     200 non-null    int64  \n",
      " 3   UnitPrice    200 non-null    float64\n",
      " 4   InvoiceDate  200 non-null    object \n",
      " 5   Country      200 non-null    object \n",
      "dtypes: float64(1), int64(2), object(3)\n",
      "memory usage: 9.5+ KB\n",
      "None\n"
     ]
    }
   ],
   "source": [
    "# Check datatypes and column names for merge\n",
    "print(products_df.info())\n",
    "print(retail_df.info())"
   ]
  },
  {
   "cell_type": "code",
   "execution_count": 115,
   "id": "3423f28c",
   "metadata": {},
   "outputs": [],
   "source": [
    "# Merge products dataframe to retail dataframs\n",
    "products_retail_df = retail_df.merge(products_df, on='ProductID', how='left')"
   ]
  },
  {
   "cell_type": "code",
   "execution_count": 116,
   "id": "1fd74bbb",
   "metadata": {},
   "outputs": [
    {
     "name": "stdout",
     "output_type": "stream",
     "text": [
      "200\n",
      "200\n"
     ]
    }
   ],
   "source": [
    "# Check length of dataframe pre- and post- merge are the same\n",
    "print(len(products_retail_df))\n",
    "print(len(retail_df))"
   ]
  },
  {
   "cell_type": "code",
   "execution_count": 117,
   "id": "45c0abc5",
   "metadata": {},
   "outputs": [
    {
     "name": "stdout",
     "output_type": "stream",
     "text": [
      "InvoiceNo      0\n",
      "ProductID      0\n",
      "Quantity       0\n",
      "UnitPrice      0\n",
      "InvoiceDate    0\n",
      "Country        0\n",
      "ProductName    0\n",
      "Category       0\n",
      "BaseCost       0\n",
      "dtype: int64\n"
     ]
    }
   ],
   "source": [
    "print(products_retail_df.isnull().sum())"
   ]
  },
  {
   "cell_type": "markdown",
   "id": "433cc1bf",
   "metadata": {},
   "source": [
    "### Revenue "
   ]
  },
  {
   "cell_type": "markdown",
   "id": "eff01613",
   "metadata": {},
   "source": [
    "#### High-Usage products"
   ]
  },
  {
   "cell_type": "code",
   "execution_count": 118,
   "id": "6af7eaed",
   "metadata": {},
   "outputs": [
    {
     "data": {
      "text/plain": [
       "ProductName\n",
       "Surgical Mask           419\n",
       "Insulin Pen             396\n",
       "COVID Vaccine Dose      384\n",
       "Rapid Test Kit          354\n",
       "Antiviral Medication    342\n",
       "Name: Quantity, dtype: int64"
      ]
     },
     "execution_count": 118,
     "metadata": {},
     "output_type": "execute_result"
    }
   ],
   "source": [
    "# Top 5 quanitity of products sold\n",
    "quantity = products_retail_df.groupby('ProductName')['Quantity'].sum()\n",
    "quantity.sort_values(ascending=False)"
   ]
  },
  {
   "cell_type": "markdown",
   "id": "d81bc163",
   "metadata": {},
   "source": [
    "Surgical masks are sold the most, followed by insulin pen, COVID vaccine dose, and rapid test kid"
   ]
  },
  {
   "cell_type": "markdown",
   "id": "1a82f91a",
   "metadata": {},
   "source": [
    "#### Revenue drivers"
   ]
  },
  {
   "cell_type": "code",
   "execution_count": 119,
   "id": "8672714f",
   "metadata": {},
   "outputs": [
    {
     "data": {
      "text/plain": [
       "ProductName\n",
       "Insulin Pen             2463.32\n",
       "Antiviral Medication    2381.55\n",
       "Surgical Mask           2329.56\n",
       "COVID Vaccine Dose      1978.30\n",
       "Rapid Test Kit          1693.02\n",
       "Name: UnitPrice, dtype: float64"
      ]
     },
     "execution_count": 119,
     "metadata": {},
     "output_type": "execute_result"
    }
   ],
   "source": [
    "# Unit price per product\n",
    "price = products_retail_df.groupby('ProductName')['UnitPrice'].sum()\n",
    "price.sort_values(ascending=False)"
   ]
  },
  {
   "cell_type": "code",
   "execution_count": 120,
   "id": "f952ee4d",
   "metadata": {},
   "outputs": [
    {
     "data": {
      "text/plain": [
       "ProductName\n",
       "Surgical Mask           976085.64\n",
       "Insulin Pen             975474.72\n",
       "Antiviral Medication    814490.10\n",
       "COVID Vaccine Dose      759667.20\n",
       "Rapid Test Kit          599329.08\n",
       "dtype: float64"
      ]
     },
     "execution_count": 120,
     "metadata": {},
     "output_type": "execute_result"
    }
   ],
   "source": [
    "#  Revenue per product\n",
    "revenue = quantity * price\n",
    "revenue.sort_values(ascending=False)"
   ]
  },
  {
   "cell_type": "markdown",
   "id": "9c6a901e",
   "metadata": {},
   "source": [
    "Surgical mask is the product that produces the highest revenue, followed by Insulin pen, and antiviral medication."
   ]
  },
  {
   "cell_type": "code",
   "execution_count": 121,
   "id": "cbe4a61e",
   "metadata": {},
   "outputs": [
    {
     "data": {
      "text/plain": [
       "ProductName\n",
       "Antiviral Medication    1800.0\n",
       "Insulin Pen             1225.0\n",
       "COVID Vaccine Dose       555.0\n",
       "Rapid Test Kit           280.0\n",
       "Surgical Mask             43.0\n",
       "Name: BaseCost, dtype: float64"
      ]
     },
     "execution_count": 121,
     "metadata": {},
     "output_type": "execute_result"
    }
   ],
   "source": [
    "basecost = products_retail_df.groupby('ProductName')['BaseCost'].sum()\n",
    "basecost.sort_values(ascending=False)"
   ]
  },
  {
   "cell_type": "code",
   "execution_count": 122,
   "id": "45e06431",
   "metadata": {},
   "outputs": [
    {
     "data": {
      "text/plain": [
       "ProductName\n",
       "Antiviral Medication    615600.0\n",
       "Insulin Pen             485100.0\n",
       "COVID Vaccine Dose      213120.0\n",
       "Rapid Test Kit           99120.0\n",
       "Surgical Mask            18017.0\n",
       "dtype: float64"
      ]
     },
     "execution_count": 122,
     "metadata": {},
     "output_type": "execute_result"
    }
   ],
   "source": [
    "cost = quantity * basecost\n",
    "cost.sort_values(ascending=False)"
   ]
  },
  {
   "cell_type": "markdown",
   "id": "a05ea004",
   "metadata": {},
   "source": [
    "Antiviral medication is the most expensive to produce"
   ]
  },
  {
   "cell_type": "markdown",
   "id": "de15b974",
   "metadata": {},
   "source": [
    "#### Margin analysis"
   ]
  },
  {
   "cell_type": "code",
   "execution_count": 132,
   "id": "4864e2a5",
   "metadata": {},
   "outputs": [
    {
     "data": {
      "text/plain": [
       "ProductName\n",
       "Antiviral Medication    198890.10\n",
       "Insulin Pen             490374.72\n",
       "Rapid Test Kit          500209.08\n",
       "COVID Vaccine Dose      546547.20\n",
       "Surgical Mask           958068.64\n",
       "dtype: float64"
      ]
     },
     "execution_count": 132,
     "metadata": {},
     "output_type": "execute_result"
    }
   ],
   "source": [
    "margin = revenue - cost\n",
    "margin.sort_values(ascending=True)"
   ]
  },
  {
   "cell_type": "code",
   "execution_count": 133,
   "id": "776fdc8d",
   "metadata": {},
   "outputs": [
    {
     "data": {
      "text/plain": [
       "ProductName\n",
       "Antiviral Medication     581.55\n",
       "Insulin Pen             1238.32\n",
       "Rapid Test Kit          1413.02\n",
       "COVID Vaccine Dose      1423.30\n",
       "Surgical Mask           2286.56\n",
       "dtype: float64"
      ]
     },
     "execution_count": 133,
     "metadata": {},
     "output_type": "execute_result"
    }
   ],
   "source": [
    "MarginPerUnit = margin / quantity\n",
    "MarginPerUnit.sort_values(ascending=True)"
   ]
  },
  {
   "cell_type": "markdown",
   "id": "ddaefd1d",
   "metadata": {},
   "source": [
    "Top selling low-margin products: 1) Antiviral medication, folllowed by 2) Insulin Pen, 3) Rapid Test Kit"
   ]
  },
  {
   "cell_type": "markdown",
   "id": "05ffeef0",
   "metadata": {},
   "source": [
    "### Country-level slicing"
   ]
  },
  {
   "cell_type": "code",
   "execution_count": 125,
   "id": "c2ee5c3e",
   "metadata": {},
   "outputs": [
    {
     "data": {
      "text/plain": [
       "Country         ProductName         \n",
       "Germany         Surgical Mask           129\n",
       "United Kingdom  COVID Vaccine Dose      125\n",
       "Germany         Rapid Test Kit          121\n",
       "Netherlands     Insulin Pen             101\n",
       "                COVID Vaccine Dose       89\n",
       "                Surgical Mask            89\n",
       "Germany         Antiviral Medication     88\n",
       "United Kingdom  Antiviral Medication     87\n",
       "Netherlands     Rapid Test Kit           86\n",
       "United Kingdom  Insulin Pen              85\n",
       "Germany         Insulin Pen              84\n",
       "France          Surgical Mask            78\n",
       "Spain           COVID Vaccine Dose       76\n",
       "France          Insulin Pen              74\n",
       "Netherlands     Antiviral Medication     73\n",
       "Spain           Surgical Mask            67\n",
       "United Kingdom  Rapid Test Kit           64\n",
       "France          COVID Vaccine Dose       58\n",
       "Spain           Rapid Test Kit           58\n",
       "United Kingdom  Surgical Mask            56\n",
       "Spain           Insulin Pen              52\n",
       "France          Antiviral Medication     51\n",
       "Spain           Antiviral Medication     43\n",
       "Germany         COVID Vaccine Dose       36\n",
       "France          Rapid Test Kit           25\n",
       "Name: Quantity, dtype: int64"
      ]
     },
     "execution_count": 125,
     "metadata": {},
     "output_type": "execute_result"
    }
   ],
   "source": [
    "price = products_retail_df.groupby(['Country','ProductName'])['Quantity'].sum()\n",
    "price.sort_values(ascending=False)"
   ]
  }
 ],
 "metadata": {
  "kernelspec": {
   "display_name": "base",
   "language": "python",
   "name": "python3"
  },
  "language_info": {
   "codemirror_mode": {
    "name": "ipython",
    "version": 3
   },
   "file_extension": ".py",
   "mimetype": "text/x-python",
   "name": "python",
   "nbconvert_exporter": "python",
   "pygments_lexer": "ipython3",
   "version": "3.10.9"
  }
 },
 "nbformat": 4,
 "nbformat_minor": 5
}
