{
 "cells": [
  {
   "cell_type": "code",
   "execution_count": 69,
   "id": "d2fb6435",
   "metadata": {},
   "outputs": [],
   "source": [
    "import json\n",
    "from collections import Counter\n",
    "from typing import Tuple\n",
    "from datetime import datetime as dt\n",
    "from collections import defaultdict"
   ]
  },
  {
   "cell_type": "code",
   "execution_count": 70,
   "id": "3264eb9a",
   "metadata": {},
   "outputs": [],
   "source": [
    "with open('../data/events.json', 'r') as f:\n",
    "    events = json.load(f)"
   ]
  },
  {
   "cell_type": "code",
   "execution_count": null,
   "id": "5cc6b335",
   "metadata": {},
   "outputs": [
    {
     "name": "stdout",
     "output_type": "stream",
     "text": [
      "user_id: u1\n",
      "event_type: view\n",
      "timestamp: 2023-01-01T10:00:00\n",
      "metadata: {'page': 'home'}\n",
      "--------------------\n",
      "user_id: u1\n",
      "event_type: click\n",
      "timestamp: 2023-01-01T10:01:00\n",
      "metadata: {'page': 'product', 'product_id': 'p1'}\n",
      "--------------------\n",
      "user_id: u2\n",
      "event_type: purchase\n",
      "timestamp: 2023-01-01T10:02:00\n",
      "metadata: {'product_id': 'p2'}\n",
      "--------------------\n",
      "user_id: \n",
      "event_type: click\n",
      "timestamp: 2023-01-01T10:03:00\n",
      "metadata: {}\n",
      "--------------------\n",
      "user_id: u3\n",
      "event_type: \n",
      "timestamp: 2023-01-02T10:04:00\n",
      "metadata: {'page': 'home'}\n",
      "--------------------\n"
     ]
    }
   ],
   "source": [
    "# Inspect first 5 events\n",
    "for event in events[:5]:\n",
    "    for key, value in event.items():\n",
    "        print(f'{key}: {value}')\n",
    "    print('-' * 20)"
   ]
  },
  {
   "cell_type": "code",
   "execution_count": 72,
   "id": "3b4a3816",
   "metadata": {},
   "outputs": [],
   "source": [
    "from collections import Counter\n",
    "from typing import List, Tuple\n",
    "\n",
    "def summarize_events(events: List[dict]) -> Tuple[Counter, Counter]:\n",
    "    # Step 1: Clean the events\n",
    "    cleaned_events = [\n",
    "        event for event in events\n",
    "        if 'user_id' in event and event['user_id'] and\n",
    "           'event_type' in event and event['event_type']\n",
    "    ]\n",
    "\n",
    "    # Step 2: Count things\n",
    "    event_type_counts = Counter(event['event_type'] for event in cleaned_events)\n",
    "    user_id_counts = Counter(event['user_id'] for event in cleaned_events)\n",
    "\n",
    "    # Step 3: Return both\n",
    "    return event_type_counts, user_id_counts"
   ]
  },
  {
   "cell_type": "code",
   "execution_count": null,
   "id": "e761569d",
   "metadata": {},
   "outputs": [],
   "source": [
    "# Get event and user counts\n",
    "event_type_counts, user_id_counts = summarize_events(events)"
   ]
  },
  {
   "cell_type": "code",
   "execution_count": null,
   "id": "9ed718a0",
   "metadata": {},
   "outputs": [
    {
     "name": "stdout",
     "output_type": "stream",
     "text": [
      "Event type counts:\n",
      "Counter({'view': 2, 'click': 2, 'purchase': 1})\n",
      "\n",
      "User ID counts:\n",
      "Counter({'u1': 3, 'u2': 2})\n"
     ]
    }
   ],
   "source": [
    "# Print counts\n",
    "print(\"Event type counts:\")\n",
    "print(event_type_counts)\n",
    "\n",
    "print(\"\\nUser ID counts:\")\n",
    "print(user_id_counts)"
   ]
  }
 ],
 "metadata": {
  "kernelspec": {
   "display_name": "base",
   "language": "python",
   "name": "python3"
  },
  "language_info": {
   "codemirror_mode": {
    "name": "ipython",
    "version": 3
   },
   "file_extension": ".py",
   "mimetype": "text/x-python",
   "name": "python",
   "nbconvert_exporter": "python",
   "pygments_lexer": "ipython3",
   "version": "3.10.9"
  }
 },
 "nbformat": 4,
 "nbformat_minor": 5
}
